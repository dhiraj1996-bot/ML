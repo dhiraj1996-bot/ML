{
 "cells": [
  {
   "cell_type": "code",
   "execution_count": 44,
   "metadata": {},
   "outputs": [],
   "source": [
    "import numpy as np\n",
    "import pandas as pd\n",
    "import matplotlib.pyplot as plt\n",
    "import seaborn as sns\n",
    "from sklearn.metrics import mean_squared_error\n",
    "from sklearn.linear_model import SGDRegressor\n",
    "from sklearn.model_selection import train_test_split\n",
    "from sklearn.linear_model import LinearRegression\n",
    "from sklearn.metrics import mean_squared_error\n",
    "from sklearn.metrics import mean_absolute_error\n",
    "from sklearn.metrics import r2_score\n",
    "from sklearn.preprocessing import PolynomialFeatures"
   ]
  },
  {
   "cell_type": "code",
   "execution_count": 45,
   "metadata": {},
   "outputs": [],
   "source": [
    "df=pd.read_csv(\"house.csv\")"
   ]
  },
  {
   "cell_type": "code",
   "execution_count": 46,
   "metadata": {},
   "outputs": [
    {
     "data": {
      "text/html": [
       "<div>\n",
       "<style scoped>\n",
       "    .dataframe tbody tr th:only-of-type {\n",
       "        vertical-align: middle;\n",
       "    }\n",
       "\n",
       "    .dataframe tbody tr th {\n",
       "        vertical-align: top;\n",
       "    }\n",
       "\n",
       "    .dataframe thead th {\n",
       "        text-align: right;\n",
       "    }\n",
       "</style>\n",
       "<table border=\"1\" class=\"dataframe\">\n",
       "  <thead>\n",
       "    <tr style=\"text-align: right;\">\n",
       "      <th></th>\n",
       "      <th>id</th>\n",
       "      <th>price</th>\n",
       "      <th>bedrooms</th>\n",
       "      <th>bathrooms</th>\n",
       "      <th>sqft_living</th>\n",
       "      <th>sqft_lot</th>\n",
       "      <th>floors</th>\n",
       "      <th>waterfront</th>\n",
       "      <th>view</th>\n",
       "      <th>condition</th>\n",
       "      <th>grade</th>\n",
       "      <th>sqft_above</th>\n",
       "      <th>sqft_basement</th>\n",
       "      <th>yr_built</th>\n",
       "      <th>yr_renovated</th>\n",
       "      <th>zipcode</th>\n",
       "      <th>lat</th>\n",
       "      <th>long</th>\n",
       "      <th>sqft_living15</th>\n",
       "      <th>sqft_lot15</th>\n",
       "    </tr>\n",
       "  </thead>\n",
       "  <tbody>\n",
       "    <tr>\n",
       "      <th>id</th>\n",
       "      <td>1.000000</td>\n",
       "      <td>-0.016762</td>\n",
       "      <td>0.001286</td>\n",
       "      <td>0.005160</td>\n",
       "      <td>-0.012258</td>\n",
       "      <td>-0.132109</td>\n",
       "      <td>0.018525</td>\n",
       "      <td>-0.002721</td>\n",
       "      <td>0.011592</td>\n",
       "      <td>-0.023783</td>\n",
       "      <td>0.008130</td>\n",
       "      <td>-0.010842</td>\n",
       "      <td>-0.005151</td>\n",
       "      <td>0.021380</td>\n",
       "      <td>-0.016907</td>\n",
       "      <td>-0.008224</td>\n",
       "      <td>-0.001891</td>\n",
       "      <td>0.020799</td>\n",
       "      <td>-0.002901</td>\n",
       "      <td>-0.138798</td>\n",
       "    </tr>\n",
       "    <tr>\n",
       "      <th>price</th>\n",
       "      <td>-0.016762</td>\n",
       "      <td>1.000000</td>\n",
       "      <td>0.308350</td>\n",
       "      <td>0.525138</td>\n",
       "      <td>0.702035</td>\n",
       "      <td>0.089661</td>\n",
       "      <td>0.256794</td>\n",
       "      <td>0.266369</td>\n",
       "      <td>0.397293</td>\n",
       "      <td>0.036362</td>\n",
       "      <td>0.667434</td>\n",
       "      <td>0.605567</td>\n",
       "      <td>0.323816</td>\n",
       "      <td>0.054012</td>\n",
       "      <td>0.126434</td>\n",
       "      <td>-0.053203</td>\n",
       "      <td>0.307003</td>\n",
       "      <td>0.021626</td>\n",
       "      <td>0.585379</td>\n",
       "      <td>0.082447</td>\n",
       "    </tr>\n",
       "    <tr>\n",
       "      <th>bedrooms</th>\n",
       "      <td>0.001286</td>\n",
       "      <td>0.308350</td>\n",
       "      <td>1.000000</td>\n",
       "      <td>0.515884</td>\n",
       "      <td>0.576671</td>\n",
       "      <td>0.031703</td>\n",
       "      <td>0.175429</td>\n",
       "      <td>-0.006582</td>\n",
       "      <td>0.079532</td>\n",
       "      <td>0.028472</td>\n",
       "      <td>0.356967</td>\n",
       "      <td>0.477600</td>\n",
       "      <td>0.303093</td>\n",
       "      <td>0.154178</td>\n",
       "      <td>0.018841</td>\n",
       "      <td>-0.152668</td>\n",
       "      <td>-0.008931</td>\n",
       "      <td>0.129473</td>\n",
       "      <td>0.391638</td>\n",
       "      <td>0.029244</td>\n",
       "    </tr>\n",
       "    <tr>\n",
       "      <th>bathrooms</th>\n",
       "      <td>0.005160</td>\n",
       "      <td>0.525138</td>\n",
       "      <td>0.515884</td>\n",
       "      <td>1.000000</td>\n",
       "      <td>0.754665</td>\n",
       "      <td>0.087740</td>\n",
       "      <td>0.500653</td>\n",
       "      <td>0.063744</td>\n",
       "      <td>0.187737</td>\n",
       "      <td>-0.124982</td>\n",
       "      <td>0.664983</td>\n",
       "      <td>0.685342</td>\n",
       "      <td>0.283770</td>\n",
       "      <td>0.506019</td>\n",
       "      <td>0.050739</td>\n",
       "      <td>-0.203866</td>\n",
       "      <td>0.024573</td>\n",
       "      <td>0.223042</td>\n",
       "      <td>0.568634</td>\n",
       "      <td>0.087175</td>\n",
       "    </tr>\n",
       "    <tr>\n",
       "      <th>sqft_living</th>\n",
       "      <td>-0.012258</td>\n",
       "      <td>0.702035</td>\n",
       "      <td>0.576671</td>\n",
       "      <td>0.754665</td>\n",
       "      <td>1.000000</td>\n",
       "      <td>0.172826</td>\n",
       "      <td>0.353949</td>\n",
       "      <td>0.103818</td>\n",
       "      <td>0.284611</td>\n",
       "      <td>-0.058753</td>\n",
       "      <td>0.762704</td>\n",
       "      <td>0.876597</td>\n",
       "      <td>0.435043</td>\n",
       "      <td>0.318049</td>\n",
       "      <td>0.055363</td>\n",
       "      <td>-0.199430</td>\n",
       "      <td>0.052529</td>\n",
       "      <td>0.240223</td>\n",
       "      <td>0.756420</td>\n",
       "      <td>0.183286</td>\n",
       "    </tr>\n",
       "  </tbody>\n",
       "</table>\n",
       "</div>"
      ],
      "text/plain": [
       "                   id     price  bedrooms  bathrooms  sqft_living  sqft_lot  \\\n",
       "id           1.000000 -0.016762  0.001286   0.005160    -0.012258 -0.132109   \n",
       "price       -0.016762  1.000000  0.308350   0.525138     0.702035  0.089661   \n",
       "bedrooms     0.001286  0.308350  1.000000   0.515884     0.576671  0.031703   \n",
       "bathrooms    0.005160  0.525138  0.515884   1.000000     0.754665  0.087740   \n",
       "sqft_living -0.012258  0.702035  0.576671   0.754665     1.000000  0.172826   \n",
       "\n",
       "               floors  waterfront      view  condition     grade  sqft_above  \\\n",
       "id           0.018525   -0.002721  0.011592  -0.023783  0.008130   -0.010842   \n",
       "price        0.256794    0.266369  0.397293   0.036362  0.667434    0.605567   \n",
       "bedrooms     0.175429   -0.006582  0.079532   0.028472  0.356967    0.477600   \n",
       "bathrooms    0.500653    0.063744  0.187737  -0.124982  0.664983    0.685342   \n",
       "sqft_living  0.353949    0.103818  0.284611  -0.058753  0.762704    0.876597   \n",
       "\n",
       "             sqft_basement  yr_built  yr_renovated   zipcode       lat  \\\n",
       "id               -0.005151  0.021380     -0.016907 -0.008224 -0.001891   \n",
       "price             0.323816  0.054012      0.126434 -0.053203  0.307003   \n",
       "bedrooms          0.303093  0.154178      0.018841 -0.152668 -0.008931   \n",
       "bathrooms         0.283770  0.506019      0.050739 -0.203866  0.024573   \n",
       "sqft_living       0.435043  0.318049      0.055363 -0.199430  0.052529   \n",
       "\n",
       "                 long  sqft_living15  sqft_lot15  \n",
       "id           0.020799      -0.002901   -0.138798  \n",
       "price        0.021626       0.585379    0.082447  \n",
       "bedrooms     0.129473       0.391638    0.029244  \n",
       "bathrooms    0.223042       0.568634    0.087175  \n",
       "sqft_living  0.240223       0.756420    0.183286  "
      ]
     },
     "execution_count": 46,
     "metadata": {},
     "output_type": "execute_result"
    }
   ],
   "source": [
    "df.corr().head()"
   ]
  },
  {
   "cell_type": "code",
   "execution_count": 90,
   "metadata": {},
   "outputs": [],
   "source": [
    "x = df[[\"sqft_living\"]]\n",
    "y = df[\"price\"]"
   ]
  },
  {
   "cell_type": "code",
   "execution_count": 48,
   "metadata": {},
   "outputs": [],
   "source": [
    "#plt.figure(figsize=(7,7))\n",
    "#sns.regplot(data=df,x=\"sqft_living\",y=\"price\")\n",
    "#plt.show()"
   ]
  },
  {
   "cell_type": "code",
   "execution_count": 91,
   "metadata": {},
   "outputs": [],
   "source": [
    "# Split data for train and test\n",
    "x_train,x_test,y_train,y_test = train_test_split(x,y,test_size=0.3,random_state=1)"
   ]
  },
  {
   "cell_type": "code",
   "execution_count": 92,
   "metadata": {},
   "outputs": [],
   "source": [
    "lr = LinearRegression()"
   ]
  },
  {
   "cell_type": "code",
   "execution_count": 93,
   "metadata": {},
   "outputs": [
    {
     "data": {
      "text/plain": [
       "LinearRegression(copy_X=True, fit_intercept=True, n_jobs=None, normalize=False)"
      ]
     },
     "execution_count": 93,
     "metadata": {},
     "output_type": "execute_result"
    }
   ],
   "source": [
    "# Calculate coefficient and intercept\n",
    "lr.fit(x_train,y_train)"
   ]
  },
  {
   "cell_type": "code",
   "execution_count": 52,
   "metadata": {},
   "outputs": [
    {
     "data": {
      "text/plain": [
       "array([273.80839877])"
      ]
     },
     "execution_count": 52,
     "metadata": {},
     "output_type": "execute_result"
    }
   ],
   "source": [
    "lr.coef_"
   ]
  },
  {
   "cell_type": "code",
   "execution_count": 53,
   "metadata": {},
   "outputs": [
    {
     "name": "stdout",
     "output_type": "stream",
     "text": [
      "-31356.784574860474\n"
     ]
    }
   ],
   "source": [
    "intercept = lr.intercept_\n",
    "print(intercept)"
   ]
  },
  {
   "cell_type": "code",
   "execution_count": 94,
   "metadata": {},
   "outputs": [
    {
     "data": {
      "text/plain": [
       "0.5030774643470591"
      ]
     },
     "execution_count": 94,
     "metadata": {},
     "output_type": "execute_result"
    }
   ],
   "source": [
    "lr.score(x_test,y_test)"
   ]
  },
  {
   "cell_type": "code",
   "execution_count": 95,
   "metadata": {},
   "outputs": [],
   "source": [
    "y_pred = lr.predict(x_test)"
   ]
  },
  {
   "cell_type": "code",
   "execution_count": 56,
   "metadata": {},
   "outputs": [
    {
     "data": {
      "text/plain": [
       "array([ 732568.6479807 ,  414950.9054128 ,  617569.12049922, ...,\n",
       "        319117.96584489, 1384232.63704243,  858520.5114128 ])"
      ]
     },
     "execution_count": 56,
     "metadata": {},
     "output_type": "execute_result"
    }
   ],
   "source": [
    "y_pred"
   ]
  },
  {
   "cell_type": "code",
   "execution_count": 57,
   "metadata": {},
   "outputs": [
    {
     "name": "stdout",
     "output_type": "stream",
     "text": [
      "77554859321.62442\n"
     ]
    }
   ],
   "source": [
    "mse = mean_squared_error(y_pred,y_test)\n",
    "print(mse)"
   ]
  },
  {
   "cell_type": "code",
   "execution_count": 58,
   "metadata": {},
   "outputs": [
    {
     "name": "stdout",
     "output_type": "stream",
     "text": [
      "278486.73096150276\n"
     ]
    }
   ],
   "source": [
    "rmse = np.sqrt(mse)\n",
    "print(rmse)"
   ]
  },
  {
   "cell_type": "code",
   "execution_count": 59,
   "metadata": {},
   "outputs": [
    {
     "name": "stdout",
     "output_type": "stream",
     "text": [
      "175221.70016269942\n"
     ]
    }
   ],
   "source": [
    "mae = mean_absolute_error(y_pred,y_test)\n",
    "print(mae)"
   ]
  },
  {
   "cell_type": "code",
   "execution_count": 60,
   "metadata": {},
   "outputs": [
    {
     "name": "stdout",
     "output_type": "stream",
     "text": [
      "0.5030774643470591\n"
     ]
    }
   ],
   "source": [
    "r2 = r2_score(y_test,y_pred)\n",
    "print(r2)"
   ]
  },
  {
   "cell_type": "code",
   "execution_count": 61,
   "metadata": {},
   "outputs": [],
   "source": [
    "pf=PolynomialFeatures(2)\n",
    "\n",
    "x_poly=pf.fit_transform(x)\n"
   ]
  },
  {
   "cell_type": "code",
   "execution_count": 71,
   "metadata": {},
   "outputs": [],
   "source": [
    "x_train,x_test,y_train,y_test = train_test_split(x_poly,y,test_size=0.3,random_state=1)"
   ]
  },
  {
   "cell_type": "code",
   "execution_count": 72,
   "metadata": {},
   "outputs": [
    {
     "data": {
      "text/plain": [
       "LinearRegression(copy_X=True, fit_intercept=True, n_jobs=None, normalize=False)"
      ]
     },
     "execution_count": 72,
     "metadata": {},
     "output_type": "execute_result"
    }
   ],
   "source": [
    "lr=LinearRegression()\n",
    "lr.fit(x_train,y_train)"
   ]
  },
  {
   "cell_type": "code",
   "execution_count": 64,
   "metadata": {},
   "outputs": [
    {
     "name": "stdout",
     "output_type": "stream",
     "text": [
      "for 1 degree-iteration >>> 0.5030774643470591\n",
      "for 2 degree-iteration >>> 0.5311574735206945\n",
      "for 3 degree-iteration >>> 0.5401886537626621\n",
      "for 4 degree-iteration >>> 0.49214803209303193\n",
      "for 5 degree-iteration >>> 0.11308496959753256\n",
      "for 6 degree-iteration >>> 0.4854900044612047\n",
      "for 7 degree-iteration >>> -28.423332491388955\n",
      "for 8 degree-iteration >>> -728.2317928226222\n",
      "for 9 degree-iteration >>> -6988.919812080429\n"
     ]
    }
   ],
   "source": [
    "for i in range(1,10):\n",
    "    pf=PolynomialFeatures(i)\n",
    "    x_poly=pf.fit_transform(x)\n",
    "    x_train,x_test,y_train,y_test = train_test_split(x_poly,y,test_size=0.3,random_state=1)\n",
    "    lr=LinearRegression()\n",
    "    lr.fit(x_train,y_train)\n",
    "    coefficient = lr.coef_\n",
    "    lrscore=lr.score(x_test,y_test)\n",
    "    print(\"for\",i,\"degree-iteration\",\">>>\",lrscore)"
   ]
  },
  {
   "cell_type": "code",
   "execution_count": 65,
   "metadata": {},
   "outputs": [
    {
     "data": {
      "text/html": [
       "<div>\n",
       "<style scoped>\n",
       "    .dataframe tbody tr th:only-of-type {\n",
       "        vertical-align: middle;\n",
       "    }\n",
       "\n",
       "    .dataframe tbody tr th {\n",
       "        vertical-align: top;\n",
       "    }\n",
       "\n",
       "    .dataframe thead th {\n",
       "        text-align: right;\n",
       "    }\n",
       "</style>\n",
       "<table border=\"1\" class=\"dataframe\">\n",
       "  <thead>\n",
       "    <tr style=\"text-align: right;\">\n",
       "      <th></th>\n",
       "      <th>id</th>\n",
       "      <th>date</th>\n",
       "      <th>price</th>\n",
       "      <th>bedrooms</th>\n",
       "      <th>bathrooms</th>\n",
       "      <th>sqft_living</th>\n",
       "      <th>sqft_lot</th>\n",
       "      <th>floors</th>\n",
       "      <th>waterfront</th>\n",
       "      <th>view</th>\n",
       "      <th>...</th>\n",
       "      <th>grade</th>\n",
       "      <th>sqft_above</th>\n",
       "      <th>sqft_basement</th>\n",
       "      <th>yr_built</th>\n",
       "      <th>yr_renovated</th>\n",
       "      <th>zipcode</th>\n",
       "      <th>lat</th>\n",
       "      <th>long</th>\n",
       "      <th>sqft_living15</th>\n",
       "      <th>sqft_lot15</th>\n",
       "    </tr>\n",
       "  </thead>\n",
       "  <tbody>\n",
       "    <tr>\n",
       "      <th>0</th>\n",
       "      <td>7129300520</td>\n",
       "      <td>20141013T000000</td>\n",
       "      <td>221900.0</td>\n",
       "      <td>3</td>\n",
       "      <td>1.00</td>\n",
       "      <td>1180</td>\n",
       "      <td>5650</td>\n",
       "      <td>1.0</td>\n",
       "      <td>0</td>\n",
       "      <td>0</td>\n",
       "      <td>...</td>\n",
       "      <td>7</td>\n",
       "      <td>1180</td>\n",
       "      <td>0</td>\n",
       "      <td>1955</td>\n",
       "      <td>0</td>\n",
       "      <td>98178</td>\n",
       "      <td>47.5112</td>\n",
       "      <td>-122.257</td>\n",
       "      <td>1340</td>\n",
       "      <td>5650</td>\n",
       "    </tr>\n",
       "    <tr>\n",
       "      <th>1</th>\n",
       "      <td>6414100192</td>\n",
       "      <td>20141209T000000</td>\n",
       "      <td>538000.0</td>\n",
       "      <td>3</td>\n",
       "      <td>2.25</td>\n",
       "      <td>2570</td>\n",
       "      <td>7242</td>\n",
       "      <td>2.0</td>\n",
       "      <td>0</td>\n",
       "      <td>0</td>\n",
       "      <td>...</td>\n",
       "      <td>7</td>\n",
       "      <td>2170</td>\n",
       "      <td>400</td>\n",
       "      <td>1951</td>\n",
       "      <td>1991</td>\n",
       "      <td>98125</td>\n",
       "      <td>47.7210</td>\n",
       "      <td>-122.319</td>\n",
       "      <td>1690</td>\n",
       "      <td>7639</td>\n",
       "    </tr>\n",
       "    <tr>\n",
       "      <th>2</th>\n",
       "      <td>5631500400</td>\n",
       "      <td>20150225T000000</td>\n",
       "      <td>180000.0</td>\n",
       "      <td>2</td>\n",
       "      <td>1.00</td>\n",
       "      <td>770</td>\n",
       "      <td>10000</td>\n",
       "      <td>1.0</td>\n",
       "      <td>0</td>\n",
       "      <td>0</td>\n",
       "      <td>...</td>\n",
       "      <td>6</td>\n",
       "      <td>770</td>\n",
       "      <td>0</td>\n",
       "      <td>1933</td>\n",
       "      <td>0</td>\n",
       "      <td>98028</td>\n",
       "      <td>47.7379</td>\n",
       "      <td>-122.233</td>\n",
       "      <td>2720</td>\n",
       "      <td>8062</td>\n",
       "    </tr>\n",
       "    <tr>\n",
       "      <th>3</th>\n",
       "      <td>2487200875</td>\n",
       "      <td>20141209T000000</td>\n",
       "      <td>604000.0</td>\n",
       "      <td>4</td>\n",
       "      <td>3.00</td>\n",
       "      <td>1960</td>\n",
       "      <td>5000</td>\n",
       "      <td>1.0</td>\n",
       "      <td>0</td>\n",
       "      <td>0</td>\n",
       "      <td>...</td>\n",
       "      <td>7</td>\n",
       "      <td>1050</td>\n",
       "      <td>910</td>\n",
       "      <td>1965</td>\n",
       "      <td>0</td>\n",
       "      <td>98136</td>\n",
       "      <td>47.5208</td>\n",
       "      <td>-122.393</td>\n",
       "      <td>1360</td>\n",
       "      <td>5000</td>\n",
       "    </tr>\n",
       "    <tr>\n",
       "      <th>4</th>\n",
       "      <td>1954400510</td>\n",
       "      <td>20150218T000000</td>\n",
       "      <td>510000.0</td>\n",
       "      <td>3</td>\n",
       "      <td>2.00</td>\n",
       "      <td>1680</td>\n",
       "      <td>8080</td>\n",
       "      <td>1.0</td>\n",
       "      <td>0</td>\n",
       "      <td>0</td>\n",
       "      <td>...</td>\n",
       "      <td>8</td>\n",
       "      <td>1680</td>\n",
       "      <td>0</td>\n",
       "      <td>1987</td>\n",
       "      <td>0</td>\n",
       "      <td>98074</td>\n",
       "      <td>47.6168</td>\n",
       "      <td>-122.045</td>\n",
       "      <td>1800</td>\n",
       "      <td>7503</td>\n",
       "    </tr>\n",
       "  </tbody>\n",
       "</table>\n",
       "<p>5 rows × 21 columns</p>\n",
       "</div>"
      ],
      "text/plain": [
       "           id             date     price  bedrooms  bathrooms  sqft_living  \\\n",
       "0  7129300520  20141013T000000  221900.0         3       1.00         1180   \n",
       "1  6414100192  20141209T000000  538000.0         3       2.25         2570   \n",
       "2  5631500400  20150225T000000  180000.0         2       1.00          770   \n",
       "3  2487200875  20141209T000000  604000.0         4       3.00         1960   \n",
       "4  1954400510  20150218T000000  510000.0         3       2.00         1680   \n",
       "\n",
       "   sqft_lot  floors  waterfront  view  ...  grade  sqft_above  sqft_basement  \\\n",
       "0      5650     1.0           0     0  ...      7        1180              0   \n",
       "1      7242     2.0           0     0  ...      7        2170            400   \n",
       "2     10000     1.0           0     0  ...      6         770              0   \n",
       "3      5000     1.0           0     0  ...      7        1050            910   \n",
       "4      8080     1.0           0     0  ...      8        1680              0   \n",
       "\n",
       "   yr_built  yr_renovated  zipcode      lat     long  sqft_living15  \\\n",
       "0      1955             0    98178  47.5112 -122.257           1340   \n",
       "1      1951          1991    98125  47.7210 -122.319           1690   \n",
       "2      1933             0    98028  47.7379 -122.233           2720   \n",
       "3      1965             0    98136  47.5208 -122.393           1360   \n",
       "4      1987             0    98074  47.6168 -122.045           1800   \n",
       "\n",
       "   sqft_lot15  \n",
       "0        5650  \n",
       "1        7639  \n",
       "2        8062  \n",
       "3        5000  \n",
       "4        7503  \n",
       "\n",
       "[5 rows x 21 columns]"
      ]
     },
     "execution_count": 65,
     "metadata": {},
     "output_type": "execute_result"
    }
   ],
   "source": [
    "df.head()\n"
   ]
  },
  {
   "cell_type": "code",
   "execution_count": 66,
   "metadata": {},
   "outputs": [
    {
     "name": "stdout",
     "output_type": "stream",
     "text": [
      "<class 'pandas.core.frame.DataFrame'>\n",
      "RangeIndex: 21613 entries, 0 to 21612\n",
      "Data columns (total 21 columns):\n",
      "id               21613 non-null int64\n",
      "date             21613 non-null object\n",
      "price            21613 non-null float64\n",
      "bedrooms         21613 non-null int64\n",
      "bathrooms        21613 non-null float64\n",
      "sqft_living      21613 non-null int64\n",
      "sqft_lot         21613 non-null int64\n",
      "floors           21613 non-null float64\n",
      "waterfront       21613 non-null int64\n",
      "view             21613 non-null int64\n",
      "condition        21613 non-null int64\n",
      "grade            21613 non-null int64\n",
      "sqft_above       21613 non-null int64\n",
      "sqft_basement    21613 non-null int64\n",
      "yr_built         21613 non-null int64\n",
      "yr_renovated     21613 non-null int64\n",
      "zipcode          21613 non-null int64\n",
      "lat              21613 non-null float64\n",
      "long             21613 non-null float64\n",
      "sqft_living15    21613 non-null int64\n",
      "sqft_lot15       21613 non-null int64\n",
      "dtypes: float64(5), int64(15), object(1)\n",
      "memory usage: 3.5+ MB\n"
     ]
    }
   ],
   "source": [
    "df.info()"
   ]
  },
  {
   "cell_type": "code",
   "execution_count": 67,
   "metadata": {},
   "outputs": [
    {
     "data": {
      "text/html": [
       "<div>\n",
       "<style scoped>\n",
       "    .dataframe tbody tr th:only-of-type {\n",
       "        vertical-align: middle;\n",
       "    }\n",
       "\n",
       "    .dataframe tbody tr th {\n",
       "        vertical-align: top;\n",
       "    }\n",
       "\n",
       "    .dataframe thead th {\n",
       "        text-align: right;\n",
       "    }\n",
       "</style>\n",
       "<table border=\"1\" class=\"dataframe\">\n",
       "  <thead>\n",
       "    <tr style=\"text-align: right;\">\n",
       "      <th></th>\n",
       "      <th>id</th>\n",
       "      <th>price</th>\n",
       "      <th>bedrooms</th>\n",
       "      <th>bathrooms</th>\n",
       "      <th>sqft_living</th>\n",
       "      <th>sqft_lot</th>\n",
       "      <th>floors</th>\n",
       "      <th>waterfront</th>\n",
       "      <th>view</th>\n",
       "      <th>condition</th>\n",
       "      <th>grade</th>\n",
       "      <th>sqft_above</th>\n",
       "      <th>sqft_basement</th>\n",
       "      <th>yr_built</th>\n",
       "      <th>yr_renovated</th>\n",
       "      <th>zipcode</th>\n",
       "      <th>lat</th>\n",
       "      <th>long</th>\n",
       "      <th>sqft_living15</th>\n",
       "      <th>sqft_lot15</th>\n",
       "    </tr>\n",
       "  </thead>\n",
       "  <tbody>\n",
       "    <tr>\n",
       "      <th>id</th>\n",
       "      <td>1.000000</td>\n",
       "      <td>-0.016762</td>\n",
       "      <td>0.001286</td>\n",
       "      <td>0.005160</td>\n",
       "      <td>-0.012258</td>\n",
       "      <td>-0.132109</td>\n",
       "      <td>0.018525</td>\n",
       "      <td>-0.002721</td>\n",
       "      <td>0.011592</td>\n",
       "      <td>-0.023783</td>\n",
       "      <td>0.008130</td>\n",
       "      <td>-0.010842</td>\n",
       "      <td>-0.005151</td>\n",
       "      <td>0.021380</td>\n",
       "      <td>-0.016907</td>\n",
       "      <td>-0.008224</td>\n",
       "      <td>-0.001891</td>\n",
       "      <td>0.020799</td>\n",
       "      <td>-0.002901</td>\n",
       "      <td>-0.138798</td>\n",
       "    </tr>\n",
       "    <tr>\n",
       "      <th>price</th>\n",
       "      <td>-0.016762</td>\n",
       "      <td>1.000000</td>\n",
       "      <td>0.308350</td>\n",
       "      <td>0.525138</td>\n",
       "      <td>0.702035</td>\n",
       "      <td>0.089661</td>\n",
       "      <td>0.256794</td>\n",
       "      <td>0.266369</td>\n",
       "      <td>0.397293</td>\n",
       "      <td>0.036362</td>\n",
       "      <td>0.667434</td>\n",
       "      <td>0.605567</td>\n",
       "      <td>0.323816</td>\n",
       "      <td>0.054012</td>\n",
       "      <td>0.126434</td>\n",
       "      <td>-0.053203</td>\n",
       "      <td>0.307003</td>\n",
       "      <td>0.021626</td>\n",
       "      <td>0.585379</td>\n",
       "      <td>0.082447</td>\n",
       "    </tr>\n",
       "    <tr>\n",
       "      <th>bedrooms</th>\n",
       "      <td>0.001286</td>\n",
       "      <td>0.308350</td>\n",
       "      <td>1.000000</td>\n",
       "      <td>0.515884</td>\n",
       "      <td>0.576671</td>\n",
       "      <td>0.031703</td>\n",
       "      <td>0.175429</td>\n",
       "      <td>-0.006582</td>\n",
       "      <td>0.079532</td>\n",
       "      <td>0.028472</td>\n",
       "      <td>0.356967</td>\n",
       "      <td>0.477600</td>\n",
       "      <td>0.303093</td>\n",
       "      <td>0.154178</td>\n",
       "      <td>0.018841</td>\n",
       "      <td>-0.152668</td>\n",
       "      <td>-0.008931</td>\n",
       "      <td>0.129473</td>\n",
       "      <td>0.391638</td>\n",
       "      <td>0.029244</td>\n",
       "    </tr>\n",
       "    <tr>\n",
       "      <th>bathrooms</th>\n",
       "      <td>0.005160</td>\n",
       "      <td>0.525138</td>\n",
       "      <td>0.515884</td>\n",
       "      <td>1.000000</td>\n",
       "      <td>0.754665</td>\n",
       "      <td>0.087740</td>\n",
       "      <td>0.500653</td>\n",
       "      <td>0.063744</td>\n",
       "      <td>0.187737</td>\n",
       "      <td>-0.124982</td>\n",
       "      <td>0.664983</td>\n",
       "      <td>0.685342</td>\n",
       "      <td>0.283770</td>\n",
       "      <td>0.506019</td>\n",
       "      <td>0.050739</td>\n",
       "      <td>-0.203866</td>\n",
       "      <td>0.024573</td>\n",
       "      <td>0.223042</td>\n",
       "      <td>0.568634</td>\n",
       "      <td>0.087175</td>\n",
       "    </tr>\n",
       "    <tr>\n",
       "      <th>sqft_living</th>\n",
       "      <td>-0.012258</td>\n",
       "      <td>0.702035</td>\n",
       "      <td>0.576671</td>\n",
       "      <td>0.754665</td>\n",
       "      <td>1.000000</td>\n",
       "      <td>0.172826</td>\n",
       "      <td>0.353949</td>\n",
       "      <td>0.103818</td>\n",
       "      <td>0.284611</td>\n",
       "      <td>-0.058753</td>\n",
       "      <td>0.762704</td>\n",
       "      <td>0.876597</td>\n",
       "      <td>0.435043</td>\n",
       "      <td>0.318049</td>\n",
       "      <td>0.055363</td>\n",
       "      <td>-0.199430</td>\n",
       "      <td>0.052529</td>\n",
       "      <td>0.240223</td>\n",
       "      <td>0.756420</td>\n",
       "      <td>0.183286</td>\n",
       "    </tr>\n",
       "  </tbody>\n",
       "</table>\n",
       "</div>"
      ],
      "text/plain": [
       "                   id     price  bedrooms  bathrooms  sqft_living  sqft_lot  \\\n",
       "id           1.000000 -0.016762  0.001286   0.005160    -0.012258 -0.132109   \n",
       "price       -0.016762  1.000000  0.308350   0.525138     0.702035  0.089661   \n",
       "bedrooms     0.001286  0.308350  1.000000   0.515884     0.576671  0.031703   \n",
       "bathrooms    0.005160  0.525138  0.515884   1.000000     0.754665  0.087740   \n",
       "sqft_living -0.012258  0.702035  0.576671   0.754665     1.000000  0.172826   \n",
       "\n",
       "               floors  waterfront      view  condition     grade  sqft_above  \\\n",
       "id           0.018525   -0.002721  0.011592  -0.023783  0.008130   -0.010842   \n",
       "price        0.256794    0.266369  0.397293   0.036362  0.667434    0.605567   \n",
       "bedrooms     0.175429   -0.006582  0.079532   0.028472  0.356967    0.477600   \n",
       "bathrooms    0.500653    0.063744  0.187737  -0.124982  0.664983    0.685342   \n",
       "sqft_living  0.353949    0.103818  0.284611  -0.058753  0.762704    0.876597   \n",
       "\n",
       "             sqft_basement  yr_built  yr_renovated   zipcode       lat  \\\n",
       "id               -0.005151  0.021380     -0.016907 -0.008224 -0.001891   \n",
       "price             0.323816  0.054012      0.126434 -0.053203  0.307003   \n",
       "bedrooms          0.303093  0.154178      0.018841 -0.152668 -0.008931   \n",
       "bathrooms         0.283770  0.506019      0.050739 -0.203866  0.024573   \n",
       "sqft_living       0.435043  0.318049      0.055363 -0.199430  0.052529   \n",
       "\n",
       "                 long  sqft_living15  sqft_lot15  \n",
       "id           0.020799      -0.002901   -0.138798  \n",
       "price        0.021626       0.585379    0.082447  \n",
       "bedrooms     0.129473       0.391638    0.029244  \n",
       "bathrooms    0.223042       0.568634    0.087175  \n",
       "sqft_living  0.240223       0.756420    0.183286  "
      ]
     },
     "execution_count": 67,
     "metadata": {},
     "output_type": "execute_result"
    }
   ],
   "source": [
    "df.corr().head()"
   ]
  },
  {
   "cell_type": "code",
   "execution_count": 79,
   "metadata": {},
   "outputs": [],
   "source": [
    "x = df[[\"sqft_living\",\"sqft_above\",\"grade\",\"sqft_living15\",\"bedrooms\"]]\n",
    "y = df[\"price\"]"
   ]
  },
  {
   "cell_type": "code",
   "execution_count": 69,
   "metadata": {},
   "outputs": [
    {
     "name": "stdout",
     "output_type": "stream",
     "text": [
      "for 0 degree-iteration >>> -0.0004076018354877142\n",
      "for 1 degree-iteration >>> 0.5560804485228592\n",
      "for 2 degree-iteration >>> 0.6381451659184865\n",
      "for 3 degree-iteration >>> 0.6448940095405803\n",
      "for 4 degree-iteration >>> -0.5998104098311299\n",
      "for 5 degree-iteration >>> -24.59978679926145\n",
      "for 6 degree-iteration >>> -416.8723361070366\n",
      "for 7 degree-iteration >>> -15505.53445768041\n",
      "for 8 degree-iteration >>> -9050068.094846496\n",
      "for 9 degree-iteration >>> -95616025.21853797\n"
     ]
    }
   ],
   "source": [
    "for i in range(0,10):\n",
    "    pf=PolynomialFeatures(i)\n",
    "    x_poly=pf.fit_transform(x)\n",
    "    x_train,x_test,y_train,y_test = train_test_split(x_poly,y,test_size=0.3,random_state=1)\n",
    "    lr=LinearRegression()\n",
    "    lr.fit(x_train,y_train)\n",
    "    coefficient = lr.coef_\n",
    "    lrscore=lr.score(x_test,y_test)\n",
    "    print(\"for\",i,\"degree-iteration\",\">>>\",lrscore)"
   ]
  },
  {
   "cell_type": "code",
   "execution_count": 76,
   "metadata": {},
   "outputs": [],
   "source": [
    "x = df[[\"sqft_living\"]]\n",
    "y = df[\"price\"]"
   ]
  },
  {
   "cell_type": "code",
   "execution_count": 96,
   "metadata": {},
   "outputs": [
    {
     "data": {
      "text/plain": [
       "0.5401886537626621"
      ]
     },
     "execution_count": 96,
     "metadata": {},
     "output_type": "execute_result"
    }
   ],
   "source": [
    "    pf=PolynomialFeatures(3)\n",
    "    x_poly=pf.fit_transform(x)\n",
    "    x_train_poly,x_test_poly,y_train,y_test = train_test_split(x_poly,y,test_size=0.3,random_state=1)\n",
    "    lr=LinearRegression()\n",
    "    lr.fit(x_train_poly,y_train)\n",
    "    coefficient = lr.coef_\n",
    "    lrscore=lr.score(x_test_poly,y_test)\n",
    "    ypred_poly=lr.predict(x_test_poly)\n",
    "    r2_score(y_test,ypred)"
   ]
  },
  {
   "cell_type": "code",
   "execution_count": 99,
   "metadata": {},
   "outputs": [
    {
     "data": {
      "image/png": "[encoded data removed]",
      "text/plain": [
       "<Figure size 432x288 with 1 Axes>"
      ]
     },
     "metadata": {
      "needs_background": "light"
     },
     "output_type": "display_data"
    }
   ],
   "source": [
    "plt.figure()\n",
    "plt.scatter(x,y)\n",
    "plt.scatter(x_test,ypred_poly,color=\"red\")\n",
    "plt.show()"
   ]
  },
  {
   "cell_type": "code",
   "execution_count": null,
   "metadata": {},
   "outputs": [],
   "source": []
  }
 ],
 "metadata": {
  "kernelspec": {
   "display_name": "Python 3",
   "language": "python",
   "name": "python3"
  },
  "language_info": {
   "codemirror_mode": {
    "name": "ipython",
    "version": 3
   },
   "file_extension": ".py",
   "mimetype": "text/x-python",
   "name": "python",
   "nbconvert_exporter": "python",
   "pygments_lexer": "ipython3",
   "version": "3.7.3"
  }
 },
 "nbformat": 4,
 "nbformat_minor": 2
}
